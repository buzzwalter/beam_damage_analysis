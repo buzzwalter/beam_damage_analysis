{
 "cells": [
  {
   "cell_type": "code",
   "execution_count": 1,
   "id": "6c1d687e-5e21-47c3-bee3-7360e83a4be7",
   "metadata": {},
   "outputs": [],
   "source": [
    "from common_imports import *"
   ]
  },
  {
   "cell_type": "markdown",
   "id": "87786591",
   "metadata": {},
   "source": [
    "# Data Loading"
   ]
  },
  {
   "cell_type": "code",
   "execution_count": 2,
   "id": "bc6e69ec",
   "metadata": {},
   "outputs": [],
   "source": [
    "num_images = 292\n",
    "image_container_holiday_damage = []\n",
    "image_container_holiday_damage = [cv2.imread('pre_holiday_damage_images_2025/' + str(i).zfill(4) + '.tiff') for i in range(num_images)]"
   ]
  },
  {
   "cell_type": "code",
   "execution_count": 3,
   "id": "fd8fe086",
   "metadata": {},
   "outputs": [],
   "source": [
    "num_images = 1810\n",
    "image_container_recent_damage = []\n",
    "image_container_recent_damage = [cv2.imread('post_holiday_damage_images_2025/' + str(i).zfill(4) + '.tiff') for i in range(2,num_images)] # first two images have readout errors\n"
   ]
  },
  {
   "cell_type": "code",
   "execution_count": null,
   "id": "7adb53cc",
   "metadata": {},
   "outputs": [],
   "source": [
    "import plotly.graph_objects as go\n",
    "\n",
    "# Create a Plotly figure\n",
    "fig = go.Figure()\n",
    "\n",
    "# Add the image\n",
    "fig.add_trace(go.Image(z=image_container_holiday_damage[0]))\n",
    "\n",
    "# Customize layout\n",
    "fig.update_layout(\n",
    "    title=\"Starting Beam Mode from holiday Damage\",\n",
    "    xaxis=dict(showgrid=False, zeroline=False),\n",
    "    yaxis=dict(showgrid=False, zeroline=False),\n",
    ")\n",
    "\n",
    "# Show the plot\n",
    "fig.show()"
   ]
  },
  {
   "cell_type": "code",
   "execution_count": null,
   "id": "4ce468ab",
   "metadata": {},
   "outputs": [],
   "source": [
    "# Create a Plotly figure\n",
    "fig = go.Figure()\n",
    "\n",
    "# Add the image\n",
    "fig.add_trace(go.Image(z=image_container_recent_damage[-1]))\n",
    "\n",
    "# Customize layout\n",
    "fig.update_layout(\n",
    "    title=\"Ending Beam Mode from Recent Damage\",\n",
    "    xaxis=dict(showgrid=False, zeroline=False),\n",
    "    yaxis=dict(showgrid=False, zeroline=False),\n",
    ")\n",
    "\n",
    "# Show the plot\n",
    "fig.show()"
   ]
  },
  {
   "cell_type": "code",
   "execution_count": null,
   "id": "2e2b4362",
   "metadata": {},
   "outputs": [],
   "source": [
    "\n",
    "# Create a Plotly figure\n",
    "fig = go.Figure()\n",
    "\n",
    "# Add the image\n",
    "fig.add_trace(go.Image(z=image_container_holiday_damage[0]))\n",
    "\n",
    "# Customize layout\n",
    "fig.update_layout(\n",
    "    title=\"Starting Beam Mode from Recent Damage\",\n",
    "    xaxis=dict(showgrid=False, zeroline=False),\n",
    "    yaxis=dict(showgrid=False, zeroline=False),\n",
    ")\n",
    "\n",
    "# Show the plot\n",
    "fig.show()\n"
   ]
  },
  {
   "cell_type": "code",
   "execution_count": null,
   "id": "53e9e2bb",
   "metadata": {},
   "outputs": [],
   "source": [
    "# Create a Plotly figure\n",
    "fig = go.Figure()\n",
    "\n",
    "# Add the image\n",
    "fig.add_trace(go.Image(z=image_container_holiday_damage[-1]))\n",
    "\n",
    "# Customize layout\n",
    "fig.update_layout(\n",
    "    title=\"Ending Beam Mode from Recent Damage\",\n",
    "    xaxis=dict(showgrid=False, zeroline=False),\n",
    "    yaxis=dict(showgrid=False, zeroline=False),\n",
    ")\n",
    "\n",
    "# Show the plot\n",
    "fig.show()"
   ]
  },
  {
   "cell_type": "markdown",
   "id": "6031405a",
   "metadata": {},
   "source": [
    "# Track Threshold Differences Across Frames (2025-01-15)\n",
    "Note that it is not obvious which parameters to use for the threshold differencing. For sake of an example, max_difference = 20.0, max_area = 10.0, low_intensity = 30 was used.  This depends on the metadata associated with run typically since exposure time and gain affect the recorded signal and noise floor in particular.  We can make an ansatz for the max_difference since damage should drastically change the pixel value.  This can also be done for max_area, but it would benefit more from exploration in the future since it's not clear what percentage should count as damaged.  "
   ]
  },
  {
   "cell_type": "markdown",
   "id": "c4cbc140",
   "metadata": {},
   "source": [
    "## Most Recent Damage"
   ]
  },
  {
   "cell_type": "code",
   "execution_count": null,
   "id": "b3cea18d",
   "metadata": {},
   "outputs": [],
   "source": [
    "from frame_diff_threshold_analysis import threshold_differencing\n",
    "max_area = 10\n",
    "max_difference = 20\n",
    "low_intensity = 20\n",
    "changed_pixels_container_recent_damage = []\n",
    "damage_flagged_container_recent_damage = []\n",
    "debug_count = 0\n",
    "for i in range(len(image_container_recent_damage)-1):\n",
    "    debug_count += 1\n",
    "    print(f\"Processing image {debug_count}\")\n",
    "    damaged, count = threshold_differencing(image_container_recent_damage[i], image_container_recent_damage[i+1], max_difference, max_area, low_intensity)\n",
    "    changed_pixels_container_recent_damage.append(count)\n",
    "    damage_flagged_container_recent_damage.append(damaged)"
   ]
  },
  {
   "cell_type": "code",
   "execution_count": null,
   "id": "ec901f31",
   "metadata": {},
   "outputs": [],
   "source": [
    "fig = go.Figure()\n",
    "\n",
    "fig.add_trace(go.Scatter(x=np.arange(num_images), y=changed_pixels_container_recent_damage, mode='lines+markers', marker=dict(size=5)))\n",
    "\n",
    "fig.update_layout(title='Beam Damage Analysis (Recent)', xaxis_title='Frame Number', yaxis_title='Pixel Count Above max_difference')\n",
    "\n",
    "fig.show()"
   ]
  },
  {
   "cell_type": "code",
   "execution_count": null,
   "id": "e33d5b32",
   "metadata": {},
   "outputs": [],
   "source": [
    "fig = go.Figure()\n",
    "\n",
    "fig.add_trace(go.Scatter(x=np.arange(num_images), y=damage_flagged_container_recent_damage, mode='lines+markers', marker=dict(size=5)))\n",
    "\n",
    "fig.update_layout(title='Beam Damage Analysis (Recent)', xaxis_title='Frame Number', yaxis_title='Damage Flagged')\n",
    "\n",
    "fig.show()"
   ]
  },
  {
   "cell_type": "markdown",
   "id": "3db5d0da",
   "metadata": {},
   "source": [
    "## Pre-Holiday Damage "
   ]
  },
  {
   "cell_type": "code",
   "execution_count": null,
   "id": "bb7c4efc",
   "metadata": {
    "scrolled": true
   },
   "outputs": [],
   "source": [
    "max_area = 10\n",
    "max_difference = 20\n",
    "low_intensity = 20\n",
    "changed_pixels_container_holiday_damage = []\n",
    "damage_flagged_container_holiday_damage = []\n",
    "debug_count = 0\n",
    "for i in range(len(image_container_holiday_damage)-1):\n",
    "    debug_count += 1\n",
    "    print(f\"Processing image {debug_count}\")\n",
    "    damaged, count = threshold_differencing(image_container_holiday_damage[i], image_container_holiday_damage[i+1], max_difference, max_area, low_intensity)\n",
    "    changed_pixels_container_holiday_damage.append(count)\n",
    "    damage_flagged_container_holiday_damage.append(damaged)"
   ]
  },
  {
   "cell_type": "code",
   "execution_count": null,
   "id": "ca74c0bf",
   "metadata": {},
   "outputs": [],
   "source": [
    "fig = go.Figure()\n",
    "\n",
    "fig.add_trace(go.Scatter(x=np.arange(num_images), y=changed_pixels_container_holiday_damage, mode='lines+markers', marker=dict(size=5)))\n",
    "\n",
    "fig.update_layout(title='Beam Damage Analysis (Pre-Holiday)', xaxis_title='Frame Number', yaxis_title='Pixel Count Above max_difference')\n",
    "\n",
    "fig.show()"
   ]
  },
  {
   "cell_type": "code",
   "execution_count": null,
   "id": "d9ea2174",
   "metadata": {},
   "outputs": [],
   "source": [
    "fig = go.Figure()\n",
    "\n",
    "fig.add_trace(go.Scatter(x=np.arange(num_images), y=damage_flagged_container_holiday_damage, mode='lines+markers', marker=dict(size=5)))\n",
    "\n",
    "fig.update_layout(title='Beam Damage Analysis (Pre-Holiday)', xaxis_title='Frame Number', yaxis_title='Damage Flagged')\n",
    "\n",
    "fig.show()"
   ]
  },
  {
   "cell_type": "markdown",
   "id": "8837bf25",
   "metadata": {},
   "source": [
    "## Review\n",
    "Ultimately, when this algorithm was tuned using the cpp program in the front high rep-rate ABL room, parameters were calibrated for the camera positioning and acquisition parameters.  The metadata was not captured in the damaged images present in this notebook.  The graphs showing the pixel count above the max_difference show that the more recent damage occurrence could potentially have been stopped (doesn't look quite as noisy), but the second damage occurrence (pre-holiday) pixel count time-series just looks like a noisy graph.\n",
    "\n",
    "## Next Steps\n",
    "It would be nice to look through 10-20 parameter values of the max_area and/or max_difference.  An entire quasi-ablation study on all parameters could be done as well, but max_area would seem to be the most important parameter to focus on.\n",
    "\n",
    "We can also look at the difference between images delayed by a few frames, e.g. 50 back\n",
    "\n",
    "A sort of contour analysis following basically the floodFind algorithm could be done as well, or the code from the original cpp program could be revisited to see if parameter tuning could be skipped and the contour finding is already implemented.\n",
    "\n",
    "Beyond that, using a python library for image processing beyond opencv could be useful -- something which would have great performance although maybe only operating at lower rate.  Ailia could be a good choice, and there should be a free tier or python version of it.  Starting with Fourier analysis perhaps and looking at things like contour analysis to get better statistics for descerning the damage.\n",
    "\n"
   ]
  },
  {
   "cell_type": "markdown",
   "id": "a4925625",
   "metadata": {},
   "source": [
    "# Delayed Frame Difference Threshold Analysis"
   ]
  },
  {
   "cell_type": "code",
   "execution_count": null,
   "id": "8592e7c6",
   "metadata": {},
   "outputs": [],
   "source": [
    "max_area = 10\n",
    "max_difference = 20\n",
    "low_intensity = 20\n",
    "changed_pixels_container_recent_damage = []\n",
    "damage_flagged_container_recent_damage = []\n",
    "debug_count = 0\n",
    "for i in range(50,len(image_container_recent_damage)-1):\n",
    "    debug_count += 1\n",
    "    print(f\"Processing image {debug_count}\")\n",
    "    damaged, count = threshold_differencing(image_container_recent_damage[i-50], image_container_recent_damage[i], max_difference, max_area, low_intensity)\n",
    "    changed_pixels_container_recent_damage.append(count)\n",
    "    damage_flagged_container_recent_damage.append(damaged)"
   ]
  },
  {
   "cell_type": "code",
   "execution_count": null,
   "id": "52162ead",
   "metadata": {},
   "outputs": [],
   "source": [
    "fig = go.Figure()\n",
    "\n",
    "fig.add_trace(go.Scatter(x=np.arange(num_images), y=changed_pixels_container_recent_damage, mode='lines+markers', marker=dict(size=5)))\n",
    "\n",
    "fig.update_layout(title='Beam Damage Analysis (Recent)', xaxis_title='Frame Number', yaxis_title='Pixel Count Above max_difference')\n",
    "\n",
    "fig.show()"
   ]
  },
  {
   "cell_type": "markdown",
   "id": "dd7788f8",
   "metadata": {},
   "source": [
    "# FFT Analysis (2025-01-16)\n",
    "Using numpy's built in fft function we can analyze the images for some kind of indication of the formation of rings.  A window is applied first to reduce edge effects of the fft, namely the Hanning window\n",
    "$$\n",
    "    w(n) = 0.5 \\left( 1 - cos \\left( \\frac{2 n \\pi}{M-1} \\right) \\right)\n",
    "$$             \n",
    "Where $M$ is the length of one side of the pixel array and n is the index. In two dimensions we can build the window as\n",
    "$$\n",
    "    w(n_x,n_y) = \\sqrt{w(n_x)w(n_y)}\n",
    "$$\n",
    " The fft is then computed and shifted to the center of the image, and the magnitude spectrum is computed.  This magnitude spectrum is then enhanced using a power law transformation to enhance faint features.  The spectrum is then normalized to [0,1]."
   ]
  },
  {
   "cell_type": "markdown",
   "id": "df827c78",
   "metadata": {},
   "source": [
    "## Testing on a single image\n"
   ]
  },
  {
   "cell_type": "code",
   "execution_count": 4,
   "id": "9c91ae08",
   "metadata": {},
   "outputs": [],
   "source": [
    "from fft_analysis import *"
   ]
  },
  {
   "cell_type": "code",
   "execution_count": 50,
   "id": "883b07c8",
   "metadata": {},
   "outputs": [
    {
     "name": "stdout",
     "output_type": "stream",
     "text": [
      "Magnitude range: 0.0011 to 7178.6448\n",
      "Enhanced range: 0.0000 to 1.0000\n"
     ]
    }
   ],
   "source": [
    "fig, magnitude_spectrum = analyze_diffraction_rings(image_container_recent_damage[0])"
   ]
  },
  {
   "cell_type": "code",
   "execution_count": null,
   "id": "1885c7ea",
   "metadata": {},
   "outputs": [],
   "source": [
    "fig.show()\n",
    "fig.write_html(\"single_image_normalized_fft.html\")\n"
   ]
  },
  {
   "cell_type": "markdown",
   "id": "324d385b",
   "metadata": {},
   "source": [
    "## FTT Analysis Applied to Pre-Holiday Damage"
   ]
  },
  {
   "cell_type": "code",
   "execution_count": null,
   "id": "d7152979",
   "metadata": {},
   "outputs": [],
   "source": [
    "analyze_multiple_images(image_container_holiday_damage, 10, 12)"
   ]
  },
  {
   "cell_type": "code",
   "execution_count": null,
   "id": "0ff2335d",
   "metadata": {},
   "outputs": [],
   "source": [
    "analyze_multiple_images(image_container_holiday_damage, 150, 152)"
   ]
  },
  {
   "cell_type": "code",
   "execution_count": null,
   "id": "e4acb28b",
   "metadata": {},
   "outputs": [],
   "source": [
    "analyze_multiple_images(image_container_holiday_damage, 245, 247)"
   ]
  },
  {
   "cell_type": "markdown",
   "id": "c24335f1",
   "metadata": {},
   "source": [
    "## FTT Analysis Applied to Recent Damage"
   ]
  },
  {
   "cell_type": "code",
   "execution_count": null,
   "id": "adab03f3",
   "metadata": {},
   "outputs": [],
   "source": [
    "analyze_multiple_images(image_container_recent_damage, 10, 12)"
   ]
  },
  {
   "cell_type": "code",
   "execution_count": null,
   "id": "a1a90e9e",
   "metadata": {},
   "outputs": [],
   "source": [
    "analyze_multiple_images(image_container_recent_damage, 1000, 1002)"
   ]
  },
  {
   "cell_type": "code",
   "execution_count": null,
   "id": "6dc2878c",
   "metadata": {},
   "outputs": [],
   "source": [
    "analyze_multiple_images(image_container_recent_damage, 1800, 1802)"
   ]
  },
  {
   "cell_type": "markdown",
   "id": "971deb6c",
   "metadata": {},
   "source": [
    "## Spectrum Broadness Analysis\n",
    "Seeing as the damage from before the holidays yielded a significant broadening towards the end of the collected sample, this should be able to be discerned from a comparison of broadening. This is the main deliverable for any decision algorithm, so it's important to compare options.  Three different basic methods were chosen to analyze the broadening of the spectrum and compared:\n",
    "* second moment: ought to be pretty quick\n",
    "\n",
    "* high frequency power ratio: tunable threshold which sums pixels outside a circle around the center (default chosen at 1/4 of the maximum distance, but not sure exactly what will work best)\n",
    "\n",
    "* radial std: possible the most robust, but potentially also slower\n",
    "\n"
   ]
  },
  {
   "cell_type": "markdown",
   "id": "d1c9dcd7",
   "metadata": {},
   "source": [
    "### Check Metric Functionality and Performance \n",
    "using just a single image, the functions can be compared for runtime and checked for correctness."
   ]
  },
  {
   "cell_type": "code",
   "execution_count": null,
   "id": "f646ca9a",
   "metadata": {},
   "outputs": [],
   "source": [
    "from spectrum_broadness_analysis import *\n",
    "fig, magnitude_spectrum = analyze_diffraction_rings(image_container_holiday_damage[5])\n",
    "metrics = analyze_spectrum_broadness(magnitude_spectrum)"
   ]
  },
  {
   "cell_type": "code",
   "execution_count": null,
   "id": "52afa2ca",
   "metadata": {},
   "outputs": [],
   "source": [
    "# Example dictionary (assuming this is similar to your data)\n",
    "data_dict = metrics.copy()\n",
    "# Convert to DataFrame\n",
    "df = pd.DataFrame.from_dict(data_dict, orient='index', columns=['broadness', 'ms'])\n",
    "\n",
    "# Method 1: Simple scatter plot with pandas\n",
    "df.plot(kind='scatter', x='broadness', y='ms')\n",
    "plt.title('Normalized Spectrum Broadness and Time Analysis Visualization')\n",
    "for i, row in df.iterrows():\n",
    "    plt.annotate(i, (row['broadness'], row['ms']))\n",
    "\n",
    "# Method 2: Using seaborn (often prettier)\n",
    "sns.scatterplot(data=df, x='broadness', y='ms')\n",
    "for i, row in df.iterrows():\n",
    "    plt.annotate(i, (row['broadness'], row['ms']))\n",
    "\n",
    "plt.show()"
   ]
  },
  {
   "cell_type": "markdown",
   "id": "b447e7a7",
   "metadata": {},
   "source": [
    "### Compare Across Pre-Holiday Damage Set"
   ]
  },
  {
   "cell_type": "code",
   "execution_count": null,
   "id": "e0e30607",
   "metadata": {},
   "outputs": [],
   "source": [
    "fig, magnitude_spectrum_post_damage = analyze_diffraction_rings(image_container_holiday_damage[260])\n",
    "metrics_pre_damage, metrics_post_damage = compare_images(magnitude_spectrum,magnitude_spectrum_post_damage)"
   ]
  },
  {
   "cell_type": "markdown",
   "id": "59aad3ac",
   "metadata": {},
   "source": [
    "### Compare Across Recent Damage Data"
   ]
  },
  {
   "cell_type": "code",
   "execution_count": null,
   "id": "74e4ad2e",
   "metadata": {},
   "outputs": [],
   "source": [
    "_, magnitude_spectrum_start = analyze_diffraction_rings(image_container_recent_damage[5])\n",
    "_, magnitude_spectrum_end = analyze_diffraction_rings(image_container_recent_damage[1800])\n",
    "metrics_pre_damage_recent, metrics_post_damage_recent = compare_images(magnitude_spectrum_start, magnitude_spectrum_end)"
   ]
  },
  {
   "cell_type": "markdown",
   "id": "ffe9b559",
   "metadata": {},
   "source": [
    "### Time-Series Analysis for Discrimination\n"
   ]
  },
  {
   "cell_type": "markdown",
   "id": "74247b5c",
   "metadata": {},
   "source": [
    "#### Pre-Holiday Damage Times-Series Analysis"
   ]
  },
  {
   "cell_type": "code",
   "execution_count": null,
   "id": "4d6d798a",
   "metadata": {},
   "outputs": [],
   "source": [
    "metrics_container_holiday_damage = []\n",
    "for img in image_container_holiday_damage:\n",
    "    _, spectrum = analyze_diffraction_rings(img)\n",
    "    metrics_container_holiday_damage.append(analyze_spectrum_broadness(spectrum))\n"
   ]
  },
  {
   "cell_type": "code",
   "execution_count": null,
   "id": "bde5dd53",
   "metadata": {},
   "outputs": [],
   "source": [
    "radial_stds_holiday_damage = [metric['radial_std'][0] for metric in metrics_container_holiday_damage]\n",
    "\n",
    "fig = go.Figure()\n",
    "\n",
    "fig.add_trace(go.Scatter(x=np.arange(num_images), y=radial_stds_holiday_damage, mode='lines+markers', marker=dict(size=5)))\n",
    "\n",
    "fig.update_layout(title='Beam Damage Analysis (Pre-Holiday)', xaxis_title='Frame Number', yaxis_title='radial_std of fft spectrum')\n",
    "\n",
    "fig.show()"
   ]
  },
  {
   "cell_type": "markdown",
   "id": "7cb0e005",
   "metadata": {},
   "source": [
    "#### Recent Damage Time-Series Analysis"
   ]
  },
  {
   "cell_type": "code",
   "execution_count": null,
   "id": "ad4bdacd",
   "metadata": {},
   "outputs": [],
   "source": [
    "metrics_container_recent_damage = []\n",
    "for img in image_container_recent_damage:\n",
    "    _, spectrum = analyze_diffraction_rings(img)\n",
    "    metrics_container_recent_damage.append(analyze_spectrum_broadness(spectrum))\n"
   ]
  },
  {
   "cell_type": "code",
   "execution_count": null,
   "id": "15d24486",
   "metadata": {},
   "outputs": [],
   "source": [
    "radial_stds_recent_damage = [metric['radial_std'][0] for metric in metrics_container_recent_damage]\n",
    "\n",
    "fig = go.Figure()\n",
    "\n",
    "fig.add_trace(go.Scatter(x=np.arange(num_images), y=radial_stds_recent_damage, mode='lines+markers', marker=dict(size=5)))\n",
    "\n",
    "fig.update_layout(title='Beam Damage Analysis (Recent)', xaxis_title='Frame Number', yaxis_title='radial_std of fft spectrum')\n",
    "\n",
    "fig.show()"
   ]
  },
  {
   "cell_type": "markdown",
   "id": "83cb94c4",
   "metadata": {},
   "source": [
    "#### Average Runtime of Radial Std"
   ]
  },
  {
   "cell_type": "code",
   "execution_count": null,
   "id": "fe083a04",
   "metadata": {},
   "outputs": [],
   "source": [
    "print(f\"radial_std has a runtime of {np.average([metric['radial_std'][1] for metric in metrics_container_recent_damage]):.4f} ms on average\")"
   ]
  },
  {
   "cell_type": "markdown",
   "id": "9eb775b6",
   "metadata": {},
   "source": [
    "## Review\n",
    "Analysis shows significant broadening of the peak in the frequency spectrum, representative of the diffraction rings present. Further choice of metrics to compare broadening showed that the radial standard deviation is the most robust, despite being slower. \n",
    "\n",
    "Clearly the time-series graph of the radial standard deviation of the pre-holiday damage sample delineates the broadening of the spectrum and the formation of the diffraction rings. This could be used as a basis for a decision algorithm to determine whether to shut the diode off.\n",
    "\n",
    "Because the more recent damage sample doesn't have any strong diffraction features across the set, the time-series graph of the fft spectrum's broadening doesn't -- and should not -- produce a signal which a decision algorithm could use to shut the diode off.\n",
    "\n",
    "## Next Steps\n",
    "The decision algorithm still has to be decided on.  Either a derivative function that averages over a moving window, which would be efficient enough, or simply a comparison to a discrimiator could be useful directions to go in.\n"
   ]
  },
  {
   "cell_type": "markdown",
   "id": "e55383de",
   "metadata": {},
   "source": [
    "# Indicator Implementation (2025-01-21)\n",
    "The basic outline of the indicator is that it average the derivative (first or second order) over a rolling window of the buffer, going a certain number of frames back.  It will simply look for a non-negative value in the derivative.  Bryan specified that the function should return a boolean value, and that the parameters of the function should just be the image buffer itself, or the image container.  The best solution would just to be to assume it's the buffer, not the entire container. This solution is somewhere in between what was discussed briefly on last Friday morning.   "
   ]
  },
  {
   "cell_type": "markdown",
   "id": "e07ba31a",
   "metadata": {},
   "source": [
    "## Derivative Indicator Applied to Pre-Holiday Damage Data"
   ]
  },
  {
   "cell_type": "code",
   "execution_count": null,
   "id": "100c8ccc",
   "metadata": {},
   "outputs": [],
   "source": [
    "metrics_derivative_analysis_holiday_damage = detect_damage_from_timeseries(radial_stds_holiday_damage)\n",
    "\n",
    "# Print results\n",
    "print(f\"Damage detected: {metrics_derivative_analysis_holiday_damage['damage_detected']}\")\n",
    "print(\"\\nFirst Derivative Metrics:\")\n",
    "for key, value in metrics_derivative_analysis_holiday_damage['first_deriv_metrics'].items():\n",
    "    print(f\"{key}: {value:.6f}\")\n",
    "print(\"\\nSecond Derivative Metrics:\")\n",
    "for key, value in metrics_derivative_analysis_holiday_damage['second_deriv_metrics'].items():\n",
    "    print(f\"{key}: {value:.6f}\")\n",
    "\n",
    "fig = plot_detection_results(metrics_derivative_analysis_holiday_damage)\n",
    "fig.show()"
   ]
  },
  {
   "cell_type": "code",
   "execution_count": null,
   "id": "a4111c1d",
   "metadata": {},
   "outputs": [],
   "source": [
    "fig = go.Figure()\n",
    "\n",
    "fig.add_trace(go.Scatter(x=np.arange(len(metrics_derivative_analysis_holiday_damage['first_deriv_detection'])), y=metrics_derivative_analysis_holiday_damage['first_deriv_detection'], mode='lines+markers', marker=dict(size=5)))\n",
    "\n",
    "fig.update_layout(title='First Derivative Indicator Time-Series (Pre-Holiday)', xaxis_title='Frame Number', yaxis_title='dammage detected')\n",
    "\n",
    "fig.show()"
   ]
  },
  {
   "cell_type": "code",
   "execution_count": null,
   "id": "49e32550",
   "metadata": {},
   "outputs": [],
   "source": [
    "fig = go.Figure()\n",
    "\n",
    "fig.add_trace(go.Scatter(x=np.arange(len(metrics_derivative_analysis_holiday_damage['second_deriv_detection'])), y=metrics_derivative_analysis_holiday_damage['second_deriv_detection'], mode='lines+markers', marker=dict(size=5)))\n",
    "\n",
    "fig.update_layout(title='Second Derivative Indicator Time-Series (Pre-Holiday)', xaxis_title='Frame Number', yaxis_title='dammage detected')\n",
    "\n",
    "fig.show()"
   ]
  }
 ],
 "metadata": {
  "kernelspec": {
   "display_name": "Python 3 (ipykernel)",
   "language": "python",
   "name": "python3"
  },
  "language_info": {
   "codemirror_mode": {
    "name": "ipython",
    "version": 3
   },
   "file_extension": ".py",
   "mimetype": "text/x-python",
   "name": "python",
   "nbconvert_exporter": "python",
   "pygments_lexer": "ipython3",
   "version": "3.12.8"
  }
 },
 "nbformat": 4,
 "nbformat_minor": 5
}
